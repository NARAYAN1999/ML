{
 "cells": [
  {
   "cell_type": "code",
   "execution_count": 2,
   "id": "ff1cf0ec",
   "metadata": {},
   "outputs": [],
   "source": [
    "import PIL\n",
    "import pytesseract as tess\n",
    "from tkinter import*\n",
    "from PIL import Image\n",
    "import tkinter as tk\n",
    "from tkinter import filedialog\n",
    "import cv2"
   ]
  },
  {
   "cell_type": "code",
   "execution_count": 3,
   "id": "2ea96260",
   "metadata": {},
   "outputs": [],
   "source": [
    "tess.pytesseract.tesseract_cmd = r'C:\\Program Files\\Tesseract-OCR\\tesseract.exe'"
   ]
  },
  {
   "cell_type": "code",
   "execution_count": 4,
   "id": "6a064122",
   "metadata": {},
   "outputs": [],
   "source": [
    "window = tk.Tk()\n",
    "window.title('Image Recognition')#TITLE\n",
    "window.geometry(\"500x400\")\n",
    "window.configure(bg=\"Black\")"
   ]
  },
  {
   "cell_type": "code",
   "execution_count": 5,
   "id": "2a35569a",
   "metadata": {},
   "outputs": [],
   "source": [
    "#HEADING\n",
    "lbl1 = tk.Label(window, text=\"Image Processing Tool\", font=(\"Garamond Bold Italic\", 25), bg=\"black\", fg=\"white\")\n",
    "lbl1.pack()\n",
    "lbl2 = tk.Label(window, text =\"Click The Below Button:\\n\\n\\n\\n\\n\", font=10, bg=\"black\", fg=\"white\", padx=20)\n",
    "lbl2.pack()\n",
    "\n",
    "# Add image file\n",
    "bg = PhotoImage(file = \"simple1.png\")\n",
    "  \n",
    "# Create Canvas\n",
    "canvas1 = Canvas( window, width = 400,height = 400)\n",
    "canvas1.pack(fill = \"both\", expand = True)\n",
    "\n",
    "\n",
    "\n",
    "def r(): #THIS FUNCTION RETURNS THE OPENED IMAGE FROM ITS PATH \n",
    "    file_path = filedialog.askopenfilenames()\n",
    "    x = str(file_path)\n",
    "    string = x.replace(\"'\", \"\")\n",
    "    string = string.replace(\",\", \"\")\n",
    "    string = string.replace(\"(\", \"\", 1)\n",
    "    string = string[:-1]\n",
    "    img_path = string\n",
    "    \n",
    "    image = Image.open(img_path)\n",
    "    return image\n",
    "  "
   ]
  },
  {
   "cell_type": "code",
   "execution_count": 6,
   "id": "e3c13994",
   "metadata": {},
   "outputs": [],
   "source": [
    "def func8(): #FUNCTION RETURN TEXT FROM IMAGE(OCR)\n",
    "    img = r()\n",
    "    window8 = tk.Tk()\n",
    "    window8.title(\"Image to Text Converter\")\n",
    "    window8.geometry(\"500x300\")\n",
    "    window8.configure(bg=\"black\")\n",
    "    t = tess.image_to_string(img)\n",
    "    l8 = tk.Text(window8,font=(\"Arialbold\"),  background=\"pink\")\n",
    "    l8.pack(fill=\"both\", expand=True)\n",
    "    \n",
    "    l8.insert(tk.END, t)\n",
    "  \n",
    "    "
   ]
  },
  {
   "cell_type": "code",
   "execution_count": 7,
   "id": "09de05e3",
   "metadata": {},
   "outputs": [],
   "source": [
    "btn8 = tk.Button(text=\"Convert the Image to Text\", command=func8,font=(\"Arialbold\"), width=25, height=1, background=\"#3DA8AA\")\n",
    "btn8.pack()\n",
    "btn8.place(x=130, y=200)\n",
    "# Button for closing\n",
    "exit_button = Button(window, text=\"Exit\", command=window.destroy,width=10, height=1, background=\"red\")\n",
    "exit_button.pack()\n",
    "exit_button.place(x=210, y=300)\n",
    "\n",
    "\n",
    "window.mainloop()"
   ]
  },
  {
   "cell_type": "code",
   "execution_count": 8,
   "id": "a1b66316",
   "metadata": {},
   "outputs": [],
   "source": [
    "import pickle\n",
    "pickle.dump(func8,open('model.pkl','wb'))"
   ]
  }
 ],
 "metadata": {
  "kernelspec": {
   "display_name": "Python 3",
   "language": "python",
   "name": "python3"
  },
  "language_info": {
   "codemirror_mode": {
    "name": "ipython",
    "version": 3
   },
   "file_extension": ".py",
   "mimetype": "text/x-python",
   "name": "python",
   "nbconvert_exporter": "python",
   "pygments_lexer": "ipython3",
   "version": "3.9.2"
  }
 },
 "nbformat": 4,
 "nbformat_minor": 5
}
